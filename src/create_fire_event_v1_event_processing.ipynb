{
 "cells": [
  {
   "cell_type": "code",
   "execution_count": 20,
   "metadata": {},
   "outputs": [],
   "source": [
    "import pandas as pd\n",
    "import numpy as np\n",
    "from osgeo import gdal, osr, ogr\n",
    "import sys\n",
    "import math\n",
    "import os"
   ]
  },
  {
   "cell_type": "code",
   "execution_count": 3,
   "metadata": {},
   "outputs": [],
   "source": [
    "SPATIAL_IDX = 5\n",
    "TEMPORAL_IDX = 9"
   ]
  },
  {
   "cell_type": "code",
   "execution_count": 4,
   "metadata": {},
   "outputs": [],
   "source": [
    "'''\n",
    "Open input file <filename> and return numpy array\n",
    "'''\n",
    "\n",
    "def getModisData(filename):\n",
    "    # This allows gdal to throw python exceptions\n",
    "    gdal.UseExceptions()\n",
    "    try:\n",
    "        modisRaster = gdal.Open(filename)\n",
    "    except e:\n",
    "        print(\"Unable to open tif file\")\n",
    "        print(e)\n",
    "        print(modisRaster.GetMetadata())\n",
    "    modisData = modisRaster.ReadAsArray()\n",
    "    # set NaN values to 0\n",
    "    modisData = np.where((modisData < 1) | (modisData > 366), 0, modisData)\n",
    "    modisData = np.floor(modisData)\n",
    "    return modisData,modisRaster\n",
    "    "
   ]
  },
  {
   "cell_type": "code",
   "execution_count": 5,
   "metadata": {},
   "outputs": [],
   "source": [
    "'''\n",
    "Include any pixels that fall within temporal index within window to current event ID\n",
    "'''\n",
    "def setEventPixels(inputWindow,eventWindow,Id,burnDay):\n",
    "    #print(\"input window ID={}, burnDay={}:\".format(Id,burnDay))\n",
    "    #print(inputWindow)\n",
    "    mask = np.logical_and(inputWindow>0,abs(inputWindow-burnDay)<=TEMPORAL_IDX)\n",
    "    overlap = np.logical_and(eventWindow>0,mask)\n",
    "    if overlap.any() :\n",
    "        #print(\"Overlapping pixels\")\n",
    "        Id = np.amin(eventWindow[overlap],axis=None)\n",
    "    eventWindow[mask] = Id\n",
    "    #print(\"Event window:\")\n",
    "    #print(eventWindow)"
   ]
  },
  {
   "cell_type": "code",
   "execution_count": 6,
   "metadata": {},
   "outputs": [],
   "source": [
    "'''\n",
    "Process the input array determining fire events based on SPATIAL_IDX and TEMPORAL_IDX\n",
    "'''\n",
    "def getEventData(inputArray):\n",
    "    currEventId = 0\n",
    "    eventArray = np.zeros(inputArray.shape)\n",
    "    #Traverse pixels in the MODIS Data Array to look for neighboring event pixels that belong to the event\n",
    "    for row in range(inputArray.shape[0]):\n",
    "        for col in range(inputArray.shape[1]):\n",
    "            if inputArray[row,col] : # burn detected\n",
    "                #print(\"{},{} burn detected\".format(row,col))\n",
    "                # set spatial window\n",
    "                top = max(0,row-SPATIAL_IDX)\n",
    "                bottom = min(inputArray.shape[0],row+SPATIAL_IDX+1)\n",
    "                left = max(0,col-SPATIAL_IDX)\n",
    "                right = min(inputArray.shape[1],col+SPATIAL_IDX+1)\n",
    "                id = eventArray[row,col]\n",
    "                if id == 0 : #Event Id not set so get next ID\n",
    "                    currEventId += 1\n",
    "                    id = currEventId\n",
    "                setEventPixels(inputArray[top:bottom,left:right],eventArray[top:bottom,left:right],id,inputArray[row,col])\n",
    "    #print(eventArray)\n",
    "    return eventArray"
   ]
  },
  {
   "cell_type": "code",
   "execution_count": 7,
   "metadata": {},
   "outputs": [],
   "source": [
    "'''\n",
    "Save the event data to GTiff file\n",
    "'''\n",
    "def saveEventData(eventData,input_raster,outfile):\n",
    "    rows = input_raster.RasterYSize\n",
    "    cols = input_raster.RasterXSize\n",
    "    output_raster = gdal.GetDriverByName('GTiff').Create(outfile, cols, rows, 1 ,gdal.GDT_Float32)\n",
    "    output_raster.SetGeoTransform(input_raster.GetGeoTransform())\n",
    "    output_raster.SetProjection(input_raster.GetProjection())\n",
    "    output_raster.GetRasterBand(1).WriteArray(eventData) "
   ]
  },
  {
   "cell_type": "code",
   "execution_count": 22,
   "metadata": {},
   "outputs": [],
   "source": [
    "input_path = '../data/MCD64A1/C6/yearly_events/'\n",
    "out_path = '../data/MCD64A1/C6/yearly_events/'\n",
    "\n",
    "for i in range(2001,2016) :\n",
    "    if not os.path.exists(input_path + 'USA_burnevents_' + str(i) + '.tif'):\n",
    "        modisData,modisRaster = getModisData(out_path + 'USA_BurnDate_' + str(i) + '.tif')\n",
    "        eventData = getEventData(modisData)\n",
    "        saveEventData(eventData,modisRaster, out_path + 'USA_burnevents_' + str(i) + '.tif')"
   ]
  },
  {
   "cell_type": "markdown",
   "metadata": {},
   "source": [
    "Just a quick check to make sure the saved data matches the event data. You can delete."
   ]
  },
  {
   "cell_type": "code",
   "execution_count": 37,
   "metadata": {},
   "outputs": [
    {
     "name": "stdout",
     "output_type": "stream",
     "text": [
      "48060\n",
      "48060\n",
      "0\n"
     ]
    }
   ],
   "source": [
    "savedRaster = gdal.Open('../out/WUS_BurnDate_2014_out.tif')\n",
    "savedData = savedRaster.ReadAsArray()\n",
    "print(np.count_nonzero(eventData))\n",
    "print(np.count_nonzero(savedData))\n",
    "print(np.count_nonzero(eventData-savedData))"
   ]
  },
  {
   "cell_type": "code",
   "execution_count": null,
   "metadata": {},
   "outputs": [],
   "source": []
  }
 ],
 "metadata": {
  "kernelspec": {
   "display_name": "Python 3",
   "language": "python",
   "name": "python3"
  },
  "language_info": {
   "codemirror_mode": {
    "name": "ipython",
    "version": 3
   },
   "file_extension": ".py",
   "mimetype": "text/x-python",
   "name": "python",
   "nbconvert_exporter": "python",
   "pygments_lexer": "ipython3",
   "version": "3.6.3"
  }
 },
 "nbformat": 4,
 "nbformat_minor": 2
}
