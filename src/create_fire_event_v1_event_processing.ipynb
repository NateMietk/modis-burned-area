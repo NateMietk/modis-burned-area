{
 "cells": [
  {
   "cell_type": "code",
   "execution_count": 1,
   "metadata": {},
   "outputs": [],
   "source": [
    "import pandas as pd\n",
    "import numpy as np\n",
    "from osgeo import gdal, osr, ogr\n",
    "import os\n",
    "import sys\n",
    "import math"
   ]
  },
  {
   "cell_type": "code",
   "execution_count": 2,
   "metadata": {},
   "outputs": [],
   "source": [
    "SPATIAL_IDX = 5\n",
    "TEMPORAL_IDX = 9"
   ]
  },
  {
   "cell_type": "code",
   "execution_count": 3,
   "metadata": {},
   "outputs": [],
   "source": [
    "'''\n",
    "Open input file <filename> and return numpy array\n",
    "'''\n",
    "\n",
    "def getModisData(filename):\n",
    "    # This allows gdal to throw python exceptions\n",
    "    gdal.UseExceptions()\n",
    "    try:\n",
    "        modisRaster = gdal.Open(filename)\n",
    "    except e:\n",
    "        print(\"Unable to open tif file\")\n",
    "        print(e)\n",
    "        print(modisRaster.GetMetadata())\n",
    "    modisData = modisRaster.ReadAsArray()\n",
    "    # set NaN values to 0\n",
    "    modisData = np.where((modisData < 1) | (modisData > 366), 0, modisData)\n",
    "    modisData = np.floor(modisData)\n",
    "    return modisData,modisRaster"
   ]
  },
  {
   "cell_type": "code",
   "execution_count": 4,
   "metadata": {},
   "outputs": [],
   "source": [
    "'''\n",
    "Set the number of spatial window based on row/col and SPATIAL_IDX\n",
    "'''\n",
    "def setSpatialWindow(row,col,arrayDims):\n",
    "    top = max(0,row-SPATIAL_IDX)\n",
    "    bottom = min(arrayDims[0],row+SPATIAL_IDX+1)\n",
    "    left = max(0,col-SPATIAL_IDX)\n",
    "    right = min(arrayDims[1],col+SPATIAL_IDX+1)\n",
    "    return top,bottom,left,right"
   ]
  },
  {
   "cell_type": "code",
   "execution_count": 5,
   "metadata": {},
   "outputs": [],
   "source": [
    "'''\n",
    "Process the input array determining fire events based on SPATIAL_IDX and TEMPORAL_IDX\n",
    "'''\n",
    "def getEventData(inputArray):\n",
    "    nextId = 1\n",
    "    eventArray = np.zeros(inputArray.shape) #initialize event array to 0s\n",
    "    #Traverse pixels in the MODIS Data Array to look for neighboring event pixels that belong to the event\n",
    "    for row in range(inputArray.shape[0]):\n",
    "        for col in range(inputArray.shape[1]):\n",
    "            if inputArray[row,col] : # burn detected\n",
    "                #print(\"{},{} burn detected\".format(row,col))\n",
    "                burnDay = inputArray[row,col]\n",
    "                #print(\"Next ID={}, burnDay={}:\".format(nextId,burnDay))\n",
    "                # set spatial input and temporal bounds and create spatial windows\n",
    "                top,bottom,left,right = setSpatialWindow(row,col,inputArray.shape)\n",
    "                inputWindow = inputArray[top:bottom,left:right]\n",
    "                temporalMask = np.logical_and(inputWindow>0,abs(inputWindow-burnDay)<=TEMPORAL_IDX)\n",
    "                eventWindow = eventArray[top:bottom,left:right]\n",
    "                \n",
    "                currId = eventArray[row,col] # Event ID for current pixel\n",
    "                overlapMask = np.logical_and(np.logical_and(eventWindow>0,temporalMask),eventWindow!=currId)\n",
    "                if overlapMask.any():\n",
    "                    #true overlap\n",
    "                    overlapId = np.amin(eventWindow[overlapMask],axis=None)\n",
    "                    eventWindow[temporalMask] = overlapId\n",
    "                    if currId != 0:\n",
    "                        #print(\"Event merge: setting {} to {}\".format(currId,overlapId))\n",
    "                        eventArray[eventArray==currId] = overlapId\n",
    "                elif currId == 0: # no overlap and not set so get next ID\n",
    "                    eventWindow[temporalMask] = nextId\n",
    "                    nextId += 1\n",
    "                else: \n",
    "                    eventWindow[temporalMask] = currId # propagate current id\n",
    "    print(eventArray)\n",
    "    return eventArray"
   ]
  },
  {
   "cell_type": "code",
   "execution_count": 6,
   "metadata": {},
   "outputs": [],
   "source": [
    "'''\n",
    "Save the event data to GTiff file\n",
    "'''\n",
    "def saveEventData(eventData,input_raster,outfile):\n",
    "    rows = input_raster.RasterYSize\n",
    "    cols = input_raster.RasterXSize\n",
    "    output_raster = gdal.GetDriverByName('GTiff').Create(outfile, cols, rows, 1 ,gdal.GDT_Float32)\n",
    "    output_raster.SetGeoTransform(input_raster.GetGeoTransform())\n",
    "    output_raster.SetProjection(input_raster.GetProjection())\n",
    "    output_raster.GetRasterBand(1).WriteArray(eventData) "
   ]
  },
  {
   "cell_type": "code",
   "execution_count": 8,
   "metadata": {},
   "outputs": [
    {
     "name": "stdout",
     "output_type": "stream",
     "text": [
      "../data/MCD64A1/C6/yearly_events/USA_burnevents_2011_ms.tif\n"
     ]
    }
   ],
   "source": [
    "input_path = '../data/MCD64A1/C6/yearly_composites/'\n",
    "out_path = '../data/MCD64A1/C6/yearly_events/'\n",
    "ends = ['.tif', '_ms.tif']\n",
    "\n",
    "for i in range(2001,2018) :\n",
    "    for j in ends :\n",
    "        if not os.path.exists(out_path + 'USA_burnevents_' + str(i) + j):\n",
    "            print(out_path + 'USA_burnevents_' + str(i) + j)"
   ]
  },
  {
   "cell_type": "code",
   "execution_count": null,
   "metadata": {},
   "outputs": [],
   "source": []
  }
 ],
 "metadata": {
  "anaconda-cloud": {},
  "kernelspec": {
   "display_name": "Python 3",
   "language": "python",
   "name": "python3"
  },
  "language_info": {
   "codemirror_mode": {
    "name": "ipython",
    "version": 3
   },
   "file_extension": ".py",
   "mimetype": "text/x-python",
   "name": "python",
   "nbconvert_exporter": "python",
   "pygments_lexer": "ipython3",
   "version": "3.6.4"
  }
 },
 "nbformat": 4,
 "nbformat_minor": 2
}
