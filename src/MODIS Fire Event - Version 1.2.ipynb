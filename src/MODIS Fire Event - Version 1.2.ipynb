{
 "cells": [
  {
   "cell_type": "code",
   "execution_count": 12,
   "metadata": {},
   "outputs": [],
   "source": [
    "import pandas as pd\n",
    "import numpy as np\n",
    "from osgeo import gdal, osr, ogr\n",
    "import sys\n",
    "import math\n",
    "from matplotlib import pyplot as plt"
   ]
  },
  {
   "cell_type": "code",
   "execution_count": 13,
   "metadata": {},
   "outputs": [],
   "source": [
    "SPATIAL_IDX = 5\n",
    "TEMPORAL_IDX = 9"
   ]
  },
  {
   "cell_type": "code",
   "execution_count": 14,
   "metadata": {},
   "outputs": [],
   "source": [
    "'''\n",
    "Open input file <filename> and return numpy array\n",
    "'''\n",
    "\n",
    "def getInputData(filename):\n",
    "    # This allows gdal to throw python exceptions\n",
    "    gdal.UseExceptions()\n",
    "    try:\n",
    "        modisRaster = gdal.Open(filename)\n",
    "    except e:\n",
    "        print(\"Unable to open tif file\")\n",
    "        print(e)\n",
    "        print(modisRaster.GetMetadata())\n",
    "    modisData = modisRaster.ReadAsArray()\n",
    "    # set NaN values to 0\n",
    "    modisData = np.where((modisData < 1) | (modisData > 366), 0, modisData)\n",
    "    modisData = np.floor(modisData)\n",
    "    return modisData,modisRaster\n",
    "    "
   ]
  },
  {
   "cell_type": "code",
   "execution_count": 15,
   "metadata": {},
   "outputs": [],
   "source": [
    "'''\n",
    "Set the number of spatial window based on row/col and SPATIAL_IDX\n",
    "'''\n",
    "def setSpatialWindow(row,col,arrayDims):\n",
    "    top = max(0,row-SPATIAL_IDX)\n",
    "    bottom = min(arrayDims[0],row+SPATIAL_IDX+1)\n",
    "    left = max(0,col-SPATIAL_IDX)\n",
    "    right = min(arrayDims[1],col+SPATIAL_IDX+1)\n",
    "    return top,bottom,left,right\n",
    "    "
   ]
  },
  {
   "cell_type": "code",
   "execution_count": 16,
   "metadata": {},
   "outputs": [],
   "source": [
    "'''\n",
    "Process the input array determining fire events based on SPATIAL_IDX and TEMPORAL_IDX\n",
    "'''\n",
    "def getEventData(inputArray):\n",
    "    nextId = 1\n",
    "    eventArray = np.zeros(inputArray.shape) #initialize event array to 0s\n",
    "    #Traverse pixels in the MODIS Data Array to look for neighboring event pixels that belong to the event\n",
    "    for row in range(inputArray.shape[0]):\n",
    "        for col in range(inputArray.shape[1]):\n",
    "            if inputArray[row,col] : # burn detected\n",
    "                #print(\"{},{} burn detected\".format(row,col))\n",
    "                burnDay = inputArray[row,col]\n",
    "                #print(\"Next ID={}, burnDay={}:\".format(nextId,burnDay))\n",
    "                # set spatial input and temporal bounds and create spatial windows\n",
    "                top,bottom,left,right = setSpatialWindow(row,col,inputArray.shape)\n",
    "                inputWindow = inputArray[top:bottom,left:right]\n",
    "                temporalMask = np.logical_and(inputWindow>0,abs(inputWindow-burnDay)<=TEMPORAL_IDX)\n",
    "                eventWindow = eventArray[top:bottom,left:right]\n",
    "                \n",
    "                currId = eventArray[row,col] # Event ID for current pixel\n",
    "                overlapMask = np.logical_and(np.logical_and(eventWindow>0,temporalMask),eventWindow!=currId)\n",
    "                if overlapMask.any():\n",
    "                    #true overlap\n",
    "                    overlapId = np.amin(eventWindow[overlapMask],axis=None)\n",
    "                    eventWindow[temporalMask] = overlapId\n",
    "                    if currId != 0:\n",
    "                        #print(\"Event merge: setting {} to {}\".format(currId,overlapId))\n",
    "                        eventArray[eventArray==currId] = overlapId\n",
    "                elif currId == 0: # no overlap and not set so get next ID\n",
    "                    eventWindow[temporalMask] = nextId\n",
    "                    nextId += 1\n",
    "                else: \n",
    "                    eventWindow[temporalMask] = currId # propagate current id\n",
    "    return eventArray"
   ]
  },
  {
   "cell_type": "code",
   "execution_count": 17,
   "metadata": {},
   "outputs": [],
   "source": [
    "'''\n",
    "Save the event data to GTiff file\n",
    "'''\n",
    "def saveEventData(eventData,input_raster,outfile):\n",
    "    print(\"Saving to {}\".format(outfile))\n",
    "    rows = input_raster.RasterYSize\n",
    "    cols = input_raster.RasterXSize\n",
    "    output_raster = gdal.GetDriverByName('GTiff').Create(outfile, cols, rows, 1 ,gdal.GDT_Float32)\n",
    "    output_raster.SetGeoTransform(input_raster.GetGeoTransform())\n",
    "    output_raster.SetProjection(input_raster.GetProjection())\n",
    "    output_raster.GetRasterBand(1).WriteArray(eventData) "
   ]
  },
  {
   "cell_type": "code",
   "execution_count": 28,
   "metadata": {},
   "outputs": [],
   "source": [
    "'''\n",
    "Calculate event statistics for each fire event\n",
    "'''\n",
    "def getEventStats(eventData,inputData):\n",
    "    print(\"Getting Event Stats...\")\n",
    "    eventid, pixels = np.unique(eventData, return_counts=True)\n",
    "    df=pd.DataFrame({'eventID':eventid, 'pixels':pixels})\n",
    "    df = df[df.eventID != 0] # drop '0\n",
    "    df['km2'] = (df.pixels * 463*463)/1000000\n",
    "    df['firstbd'] = df.eventID.apply(lambda x: inputData[eventData==x].min())\n",
    "    df['lastbd'] = df.eventID.apply(lambda x: inputData[eventData==x].max())\n",
    "    df['duration'] = df.lastbd - df.firstbd + 1\n",
    "    df['fsr'] = df.pixels/df.duration\n",
    "    df['maxbd'] = df.eventID.apply(lambda x: np.bincount(inputData[eventData==x].astype(int)).argmax())\n",
    "    df_e_all = []\n",
    "    print(\"Getting Daily Stats...\")\n",
    "    events = eventid[eventid>0] #exclude pixels set to 0 (no event)\n",
    "    for e in events:\n",
    "        bd,bd_pixels = np.unique(inputData[eventData==e],return_counts=True)\n",
    "        df_e = pd.DataFrame({'eventID':e,'bd':bd,'pixels':bd_pixels})\n",
    "        df_e['area_km2'] = (df_e.pixels * 463*463)/1000000\n",
    "        df_e_all.append(df_e)\n",
    "    df_detail = pd.concat(df_e_all)\n",
    "    return df,df_detail\n"
   ]
  },
  {
   "cell_type": "code",
   "execution_count": 19,
   "metadata": {},
   "outputs": [],
   "source": [
    "def createEventRaster(df,df_detail,modisData,eventData):\n",
    "    print(\"Creating event raster\")\n",
    "    l_1 = np.zeros((eventData.shape))\n",
    "    print(df.loc[df['eventID'] == 9.0])\n",
    "    #last_bd = df.loc[df['eventID'] == 9.0,'lastbd']\n",
    "    last_bd = df.loc[df['eventID'] == 9.0,'lastbd']\n",
    "    print(\"Explicit\")\n",
    "    print(df.iloc[6]['lastbd'])\n",
    "    print(\"Index\")\n",
    "    idx = df.index([df.eventID==9])\n",
    "    print(\"idx={}\".format(idx))\n",
    "    print(df.iloc[idx]['lastbd'])\n",
    "    km2 = lambda x: df.loc[df['eventID'] == x].km2\n",
    "    #l_1(km2)\n",
    "    print(l_1.shape)\n",
    "    "
   ]
  },
  {
   "cell_type": "code",
   "execution_count": 30,
   "metadata": {},
   "outputs": [],
   "source": [
    "def processFireEvent(infile,output_base,spatial=SPATIAL_IDX,temporal=TEMPORAL_IDX):\n",
    "    inputData,inputRaster = getInputData(infile)\n",
    "    eventData = getEventData(inputData)\n",
    "    saveEventData(eventData,inputRaster,(output_base + '_out.tif'))\n",
    "    #df_estat,df_dstat = getEventStats(eventData,inputData)\n",
    "    #df_estat.to_csv(output_base + \"_estat.csv\")\n",
    "    #df_dstat.to_csv(output_base + \"_dstat.csv\")"
   ]
  },
  {
   "cell_type": "code",
   "execution_count": 20,
   "metadata": {},
   "outputs": [],
   "source": [
    "def arraytoCSV(a,filename):\n",
    "    df = pd.DataFrame(a)\n",
    "    df.to_csv(filename)"
   ]
  },
  {
   "cell_type": "code",
   "execution_count": 32,
   "metadata": {},
   "outputs": [
    {
     "name": "stdout",
     "output_type": "stream",
     "text": [
      "s=1 t=1 year=2001\n",
      "Saving to ../results/yearly_composites_15x15/USA_BurnDate_2001s1t1_out.tif\n",
      "s=1 t=1 year=2002\n",
      "Saving to ../results/yearly_composites_15x15/USA_BurnDate_2002s1t1_out.tif\n"
     ]
    },
    {
     "name": "stderr",
     "output_type": "stream",
     "text": [
      "Exception ignored in: <built-in function delete_Dataset>\n",
      "RuntimeError: TIFFAppendToStrip:Write error at scanline 4207\n"
     ]
    },
    {
     "name": "stdout",
     "output_type": "stream",
     "text": [
      "s=1 t=1 year=2003\n",
      "Saving to ../results/yearly_composites_15x15/USA_BurnDate_2003s1t1_out.tif\n"
     ]
    },
    {
     "ename": "RuntimeError",
     "evalue": "Attempt to create new tiff file `../results/yearly_composites_15x15/USA_BurnDate_2003s1t1_out.tif' failed: No space left on device",
     "output_type": "error",
     "traceback": [
      "\u001b[0;31m---------------------------------------------------------------------------\u001b[0m",
      "\u001b[0;31mRuntimeError\u001b[0m                              Traceback (most recent call last)",
      "\u001b[0;32m<ipython-input-32-69383b15ca81>\u001b[0m in \u001b[0;36m<module>\u001b[0;34m()\u001b[0m\n\u001b[1;32m      5\u001b[0m             \u001b[0minfile\u001b[0m \u001b[0;34m=\u001b[0m \u001b[0;34m'../data/MCD64A1/C6/yearly_composites/USA_BurnDate_'\u001b[0m \u001b[0;34m+\u001b[0m \u001b[0mstr\u001b[0m\u001b[0;34m(\u001b[0m\u001b[0myear\u001b[0m\u001b[0;34m)\u001b[0m \u001b[0;34m+\u001b[0m \u001b[0;34m'_ms.tif'\u001b[0m\u001b[0;34m\u001b[0m\u001b[0m\n\u001b[1;32m      6\u001b[0m             \u001b[0moutput_base\u001b[0m \u001b[0;34m=\u001b[0m \u001b[0;34m'../results/yearly_composites_15x15/USA_BurnDate_'\u001b[0m \u001b[0;34m+\u001b[0m \u001b[0mstr\u001b[0m\u001b[0;34m(\u001b[0m\u001b[0myear\u001b[0m\u001b[0;34m)\u001b[0m \u001b[0;34m+\u001b[0m \u001b[0;34m's'\u001b[0m \u001b[0;34m+\u001b[0m \u001b[0mstr\u001b[0m\u001b[0;34m(\u001b[0m\u001b[0ms\u001b[0m\u001b[0;34m)\u001b[0m \u001b[0;34m+\u001b[0m \u001b[0;34m't'\u001b[0m \u001b[0;34m+\u001b[0m \u001b[0mstr\u001b[0m\u001b[0;34m(\u001b[0m\u001b[0mt\u001b[0m\u001b[0;34m)\u001b[0m\u001b[0;34m\u001b[0m\u001b[0m\n\u001b[0;32m----> 7\u001b[0;31m             \u001b[0mprocessFireEvent\u001b[0m\u001b[0;34m(\u001b[0m\u001b[0minfile\u001b[0m\u001b[0;34m,\u001b[0m\u001b[0moutput_base\u001b[0m\u001b[0;34m,\u001b[0m\u001b[0ms\u001b[0m\u001b[0;34m,\u001b[0m\u001b[0mt\u001b[0m\u001b[0;34m)\u001b[0m\u001b[0;34m\u001b[0m\u001b[0m\n\u001b[0m",
      "\u001b[0;32m<ipython-input-30-88a69d905372>\u001b[0m in \u001b[0;36mprocessFireEvent\u001b[0;34m(infile, output_base, spatial, temporal)\u001b[0m\n\u001b[1;32m      2\u001b[0m     \u001b[0minputData\u001b[0m\u001b[0;34m,\u001b[0m\u001b[0minputRaster\u001b[0m \u001b[0;34m=\u001b[0m \u001b[0mgetInputData\u001b[0m\u001b[0;34m(\u001b[0m\u001b[0minfile\u001b[0m\u001b[0;34m)\u001b[0m\u001b[0;34m\u001b[0m\u001b[0m\n\u001b[1;32m      3\u001b[0m     \u001b[0meventData\u001b[0m \u001b[0;34m=\u001b[0m \u001b[0mgetEventData\u001b[0m\u001b[0;34m(\u001b[0m\u001b[0minputData\u001b[0m\u001b[0;34m)\u001b[0m\u001b[0;34m\u001b[0m\u001b[0m\n\u001b[0;32m----> 4\u001b[0;31m     \u001b[0msaveEventData\u001b[0m\u001b[0;34m(\u001b[0m\u001b[0meventData\u001b[0m\u001b[0;34m,\u001b[0m\u001b[0minputRaster\u001b[0m\u001b[0;34m,\u001b[0m\u001b[0;34m(\u001b[0m\u001b[0moutput_base\u001b[0m \u001b[0;34m+\u001b[0m \u001b[0;34m'_out.tif'\u001b[0m\u001b[0;34m)\u001b[0m\u001b[0;34m)\u001b[0m\u001b[0;34m\u001b[0m\u001b[0m\n\u001b[0m\u001b[1;32m      5\u001b[0m     \u001b[0;31m#df_estat,df_dstat = getEventStats(eventData,inputData)\u001b[0m\u001b[0;34m\u001b[0m\u001b[0;34m\u001b[0m\u001b[0m\n\u001b[1;32m      6\u001b[0m     \u001b[0;31m#df_estat.to_csv(output_base + \"_estat.csv\")\u001b[0m\u001b[0;34m\u001b[0m\u001b[0;34m\u001b[0m\u001b[0m\n",
      "\u001b[0;32m<ipython-input-17-cb6f079a621a>\u001b[0m in \u001b[0;36msaveEventData\u001b[0;34m(eventData, input_raster, outfile)\u001b[0m\n\u001b[1;32m      6\u001b[0m     \u001b[0mrows\u001b[0m \u001b[0;34m=\u001b[0m \u001b[0minput_raster\u001b[0m\u001b[0;34m.\u001b[0m\u001b[0mRasterYSize\u001b[0m\u001b[0;34m\u001b[0m\u001b[0m\n\u001b[1;32m      7\u001b[0m     \u001b[0mcols\u001b[0m \u001b[0;34m=\u001b[0m \u001b[0minput_raster\u001b[0m\u001b[0;34m.\u001b[0m\u001b[0mRasterXSize\u001b[0m\u001b[0;34m\u001b[0m\u001b[0m\n\u001b[0;32m----> 8\u001b[0;31m     \u001b[0moutput_raster\u001b[0m \u001b[0;34m=\u001b[0m \u001b[0mgdal\u001b[0m\u001b[0;34m.\u001b[0m\u001b[0mGetDriverByName\u001b[0m\u001b[0;34m(\u001b[0m\u001b[0;34m'GTiff'\u001b[0m\u001b[0;34m)\u001b[0m\u001b[0;34m.\u001b[0m\u001b[0mCreate\u001b[0m\u001b[0;34m(\u001b[0m\u001b[0moutfile\u001b[0m\u001b[0;34m,\u001b[0m \u001b[0mcols\u001b[0m\u001b[0;34m,\u001b[0m \u001b[0mrows\u001b[0m\u001b[0;34m,\u001b[0m \u001b[0;36m1\u001b[0m \u001b[0;34m,\u001b[0m\u001b[0mgdal\u001b[0m\u001b[0;34m.\u001b[0m\u001b[0mGDT_Float32\u001b[0m\u001b[0;34m)\u001b[0m\u001b[0;34m\u001b[0m\u001b[0m\n\u001b[0m\u001b[1;32m      9\u001b[0m     \u001b[0moutput_raster\u001b[0m\u001b[0;34m.\u001b[0m\u001b[0mSetGeoTransform\u001b[0m\u001b[0;34m(\u001b[0m\u001b[0minput_raster\u001b[0m\u001b[0;34m.\u001b[0m\u001b[0mGetGeoTransform\u001b[0m\u001b[0;34m(\u001b[0m\u001b[0;34m)\u001b[0m\u001b[0;34m)\u001b[0m\u001b[0;34m\u001b[0m\u001b[0m\n\u001b[1;32m     10\u001b[0m     \u001b[0moutput_raster\u001b[0m\u001b[0;34m.\u001b[0m\u001b[0mSetProjection\u001b[0m\u001b[0;34m(\u001b[0m\u001b[0minput_raster\u001b[0m\u001b[0;34m.\u001b[0m\u001b[0mGetProjection\u001b[0m\u001b[0;34m(\u001b[0m\u001b[0;34m)\u001b[0m\u001b[0;34m)\u001b[0m\u001b[0;34m\u001b[0m\u001b[0m\n",
      "\u001b[0;32m/opt/conda/lib/python3.6/site-packages/osgeo/gdal.py\u001b[0m in \u001b[0;36mCreate\u001b[0;34m(self, *args, **kwargs)\u001b[0m\n\u001b[1;32m   1496\u001b[0m     \u001b[0;32mdef\u001b[0m \u001b[0mCreate\u001b[0m\u001b[0;34m(\u001b[0m\u001b[0mself\u001b[0m\u001b[0;34m,\u001b[0m \u001b[0;34m*\u001b[0m\u001b[0margs\u001b[0m\u001b[0;34m,\u001b[0m \u001b[0;34m**\u001b[0m\u001b[0mkwargs\u001b[0m\u001b[0;34m)\u001b[0m\u001b[0;34m:\u001b[0m\u001b[0;34m\u001b[0m\u001b[0m\n\u001b[1;32m   1497\u001b[0m         \u001b[0;34m\"\"\"Create(Driver self, char const * utf8_path, int xsize, int ysize, int bands=1, GDALDataType eType, char ** options=None) -> Dataset\"\"\"\u001b[0m\u001b[0;34m\u001b[0m\u001b[0m\n\u001b[0;32m-> 1498\u001b[0;31m         \u001b[0;32mreturn\u001b[0m \u001b[0m_gdal\u001b[0m\u001b[0;34m.\u001b[0m\u001b[0mDriver_Create\u001b[0m\u001b[0;34m(\u001b[0m\u001b[0mself\u001b[0m\u001b[0;34m,\u001b[0m \u001b[0;34m*\u001b[0m\u001b[0margs\u001b[0m\u001b[0;34m,\u001b[0m \u001b[0;34m**\u001b[0m\u001b[0mkwargs\u001b[0m\u001b[0;34m)\u001b[0m\u001b[0;34m\u001b[0m\u001b[0m\n\u001b[0m\u001b[1;32m   1499\u001b[0m \u001b[0;34m\u001b[0m\u001b[0m\n\u001b[1;32m   1500\u001b[0m \u001b[0;34m\u001b[0m\u001b[0m\n",
      "\u001b[0;31mRuntimeError\u001b[0m: Attempt to create new tiff file `../results/yearly_composites_15x15/USA_BurnDate_2003s1t1_out.tif' failed: No space left on device"
     ]
    }
   ],
   "source": [
    "for s in range(1,16): # 1 to 15\n",
    "    for t in range(1,16): # 1 to 15\n",
    "        for year in range(2001,2018):\n",
    "            print(\"s={} t={} year={}\".format(s,t,year))\n",
    "            infile = '../data/MCD64A1/C6/yearly_composites/USA_BurnDate_' + str(year) + '_ms.tif'\n",
    "            output_base = '../results/yearly_composites_15x15/USA_BurnDate_' + str(year) + 's' + str(s) + 't' + str(t)\n",
    "            processFireEvent(infile,output_base,s,t)"
   ]
  },
  {
   "cell_type": "code",
   "execution_count": 255,
   "metadata": {},
   "outputs": [
    {
     "name": "stdout",
     "output_type": "stream",
     "text": [
      "    eventID  pixels        km2  firstbd  lastbd  duration       fsr  maxbd\n",
      "1       1.0       4   0.857476      1.0     7.0       7.0  0.571429      1\n",
      "2       2.0       1   0.214369     22.0    22.0       1.0  1.000000     22\n",
      "3       3.0       7   1.500583     42.0    61.0      20.0  0.350000     42\n",
      "4       5.0       1   0.214369     99.0    99.0       1.0  1.000000     99\n",
      "5       7.0      18   3.858642      8.0    46.0      39.0  0.461538     15\n",
      "6       9.0     242  51.877298    134.0   190.0      57.0  4.245614    179\n",
      "7      10.0       5   1.071845    116.0   134.0      19.0  0.263158    116\n",
      "8      11.0       4   0.857476    142.0   160.0      19.0  0.210526    142\n",
      "9      12.0       1   0.214369     29.0    29.0       1.0  1.000000     29\n",
      "10     13.0       4   0.857476    123.0   130.0       8.0  0.500000    123\n",
      "       bd  eventID  pixels   area_km2\n",
      "0     1.0      1.0       1   0.214369\n",
      "1     2.0      1.0       1   0.214369\n",
      "2     5.0      1.0       1   0.214369\n",
      "3     7.0      1.0       1   0.214369\n",
      "0    22.0      2.0       1   0.214369\n",
      "0    42.0      3.0       1   0.214369\n",
      "1    44.0      3.0       1   0.214369\n",
      "2    46.0      3.0       1   0.214369\n",
      "3    50.0      3.0       1   0.214369\n",
      "4    51.0      3.0       1   0.214369\n",
      "5    53.0      3.0       1   0.214369\n",
      "6    61.0      3.0       1   0.214369\n",
      "0    99.0      5.0       1   0.214369\n",
      "0     8.0      7.0       1   0.214369\n",
      "1     9.0      7.0       1   0.214369\n",
      "2    15.0      7.0       2   0.428738\n",
      "3    21.0      7.0       1   0.214369\n",
      "4    24.0      7.0       1   0.214369\n",
      "5    25.0      7.0       1   0.214369\n",
      "6    26.0      7.0       2   0.428738\n",
      "7    27.0      7.0       1   0.214369\n",
      "8    30.0      7.0       2   0.428738\n",
      "9    32.0      7.0       1   0.214369\n",
      "10   33.0      7.0       1   0.214369\n",
      "11   35.0      7.0       1   0.214369\n",
      "12   36.0      7.0       1   0.214369\n",
      "13   42.0      7.0       1   0.214369\n",
      "14   46.0      7.0       1   0.214369\n",
      "0   134.0      9.0       1   0.214369\n",
      "1   138.0      9.0       1   0.214369\n",
      "2   139.0      9.0       2   0.428738\n",
      "3   140.0      9.0       2   0.428738\n",
      "4   143.0      9.0       1   0.214369\n",
      "5   145.0      9.0       3   0.643107\n",
      "6   147.0      9.0       1   0.214369\n",
      "7   148.0      9.0       1   0.214369\n",
      "8   153.0      9.0       1   0.214369\n",
      "9   154.0      9.0       3   0.643107\n",
      "10  156.0      9.0       1   0.214369\n",
      "11  159.0      9.0       1   0.214369\n",
      "12  160.0      9.0       1   0.214369\n",
      "13  166.0      9.0       4   0.857476\n",
      "14  168.0      9.0       1   0.214369\n",
      "15  170.0      9.0       3   0.643107\n",
      "16  171.0      9.0       2   0.428738\n",
      "17  172.0      9.0       2   0.428738\n",
      "18  173.0      9.0       2   0.428738\n",
      "19  174.0      9.0       5   1.071845\n",
      "20  175.0      9.0      11   2.358059\n",
      "21  176.0      9.0      25   5.359225\n",
      "22  177.0      9.0       7   1.500583\n",
      "23  178.0      9.0      18   3.858642\n",
      "24  179.0      9.0      47  10.075343\n",
      "25  180.0      9.0      31   6.645439\n",
      "26  181.0      9.0      32   6.859808\n"
     ]
    }
   ],
   "source": [
    "df,df_detail = getEventStats(eventData)\n",
    "print(df.head(10))\n",
    "print(df_detail.head(55))"
   ]
  },
  {
   "cell_type": "code",
   "execution_count": 41,
   "metadata": {},
   "outputs": [
    {
     "data": {
      "text/plain": [
       "(30, 55)"
      ]
     },
     "execution_count": 41,
     "metadata": {},
     "output_type": "execute_result"
    }
   ],
   "source": [
    "modisData[np.unique(eventData).astype(int)].shape"
   ]
  },
  {
   "cell_type": "code",
   "execution_count": null,
   "metadata": {
    "collapsed": true
   },
   "outputs": [],
   "source": [
    "df.eventId.apply(lambda x: np.unique(modisData[eventData==x],return_counts=True)"
   ]
  },
  {
   "cell_type": "code",
   "execution_count": 10,
   "metadata": {},
   "outputs": [
    {
     "name": "stdout",
     "output_type": "stream",
     "text": [
      "[[ 0.  0.  0. ...,  0.  0.  0.]\n",
      " [ 0.  0.  0. ...,  0.  0.  0.]\n",
      " [ 0.  0.  0. ...,  0.  0.  0.]\n",
      " ..., \n",
      " [ 0.  0.  0. ...,  0.  0.  0.]\n",
      " [ 0.  0.  0. ...,  0.  0.  0.]\n",
      " [ 0.  0.  0. ...,  0.  0.  0.]]\n"
     ]
    }
   ],
   "source": [
    "modisData,modisRaster = getModisData('../data/waldo_raw.tif')\n",
    "eventData = getEventData(modisData)\n",
    "arraytoCSV(eventData,'../tmp/waldo_event.csv')\n",
    "saveEventData(eventData,modisRaster,'../out/waldo_raw_out.tif')"
   ]
  },
  {
   "cell_type": "code",
   "execution_count": 65,
   "metadata": {},
   "outputs": [
    {
     "data": {
      "image/png": "[encoded data removed]",
      "text/plain": [
       "<matplotlib.figure.Figure at 0x7f02d046e208>"
      ]
     },
     "metadata": {},
     "output_type": "display_data"
    }
   ],
   "source": [
    "plt.imshow(eventData)\n",
    "plt.colorbar()\n",
    "plt.show()"
   ]
  },
  {
   "cell_type": "code",
   "execution_count": 26,
   "metadata": {},
   "outputs": [
    {
     "data": {
      "text/plain": [
       "dtype('float64')"
      ]
     },
     "execution_count": 26,
     "metadata": {},
     "output_type": "execute_result"
    }
   ],
   "source": [
    "eventData.dtype"
   ]
  },
  {
   "cell_type": "markdown",
   "metadata": {},
   "source": [
    "Just a quick check to make sure the saved data matches the event data. You can delete."
   ]
  },
  {
   "cell_type": "code",
   "execution_count": 58,
   "metadata": {},
   "outputs": [
    {
     "name": "stdout",
     "output_type": "stream",
     "text": [
      "335\n",
      "335\n",
      "0\n"
     ]
    }
   ],
   "source": [
    "savedRaster = gdal.Open('../out/waldo_raw_out.tif')\n",
    "savedData = savedRaster.ReadAsArray()\n",
    "print(np.count_nonzero(eventData))\n",
    "print(np.count_nonzero(savedData))\n",
    "print(np.count_nonzero(eventData-savedData))"
   ]
  },
  {
   "cell_type": "code",
   "execution_count": 59,
   "metadata": {},
   "outputs": [
    {
     "data": {
      "text/plain": [
       "32.0"
      ]
     },
     "execution_count": 59,
     "metadata": {},
     "output_type": "execute_result"
    }
   ],
   "source": [
    "savedData.max()"
   ]
  },
  {
   "cell_type": "code",
   "execution_count": 30,
   "metadata": {},
   "outputs": [
    {
     "name": "stdout",
     "output_type": "stream",
     "text": [
      "Driver: GTiff/GeoTIFF\n",
      "Files: ../out/WUS_BurnDate_2014_out.tif\n",
      "Size is 3720, 4320\n",
      "Coordinate System is:\n",
      "PROJCS[\"unnamed\",\n",
      "    GEOGCS[\"unnamed ellipse\",\n",
      "        DATUM[\"unknown\",\n",
      "            SPHEROID[\"unnamed\",6370997,0]],\n",
      "        PRIMEM[\"Greenwich\",0],\n",
      "        UNIT[\"degree\",0.0174532925199433]],\n",
      "    PROJECTION[\"Lambert_Azimuthal_Equal_Area\"],\n",
      "    PARAMETER[\"latitude_of_center\",45],\n",
      "    PARAMETER[\"longitude_of_center\",-100],\n",
      "    PARAMETER[\"false_easting\",0],\n",
      "    PARAMETER[\"false_northing\",0],\n",
      "    UNIT[\"metre\",1,\n",
      "        AUTHORITY[\"EPSG\",\"9001\"]]]\n",
      "Origin = (-2032117.735286616021767,681214.871921156998724)\n",
      "Pixel Size = (500.000000000000000,-500.000000000000000)\n",
      "Metadata:\n",
      "  AREA_OR_POINT=Area\n",
      "Image Structure Metadata:\n",
      "  INTERLEAVE=BAND\n",
      "Corner Coordinates:\n",
      "Upper Left  (-2032117.735,  681214.872) (127d57' 2.67\"W, 47d52'11.96\"N)\n",
      "Lower Left  (-2032117.735,-1478785.128) (121d 2'16.90\"W, 29d25' 6.64\"N)\n",
      "Upper Right ( -172117.735,  681214.872) (102d27'43.99\"W, 51d 6'18.20\"N)\n",
      "Lower Right ( -172117.735,-1478785.128) (101d48'22.57\"W, 31d39'16.44\"N)\n",
      "Center      (-1102117.735, -398785.128) (113d 7' 2.45\"W, 40d37'19.94\"N)\n",
      "Band 1 Block=3720x1 Type=Float32, ColorInterp=Gray\n",
      "  Minimum=0.000, Maximum=9138.000, Mean=12.829, StdDev=273.682\n",
      "  Metadata:\n",
      "    STATISTICS_MAXIMUM=9138\n",
      "    STATISTICS_MEAN=12.829445128935\n",
      "    STATISTICS_MINIMUM=0\n",
      "    STATISTICS_STDDEV=273.68216716982\n"
     ]
    }
   ],
   "source": [
    "!gdalinfo -stats ../out/WUS_BurnDate_2014_out.tif"
   ]
  },
  {
   "cell_type": "code",
   "execution_count": null,
   "metadata": {
    "collapsed": true
   },
   "outputs": [],
   "source": []
  }
 ],
 "metadata": {
  "kernelspec": {
   "display_name": "Python 3",
   "language": "python",
   "name": "python3"
  },
  "language_info": {
   "codemirror_mode": {
    "name": "ipython",
    "version": 3
   },
   "file_extension": ".py",
   "mimetype": "text/x-python",
   "name": "python",
   "nbconvert_exporter": "python",
   "pygments_lexer": "ipython3",
   "version": "3.6.3"
  }
 },
 "nbformat": 4,
 "nbformat_minor": 2
}
