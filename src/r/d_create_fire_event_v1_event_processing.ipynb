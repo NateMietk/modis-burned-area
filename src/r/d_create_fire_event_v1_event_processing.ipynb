{
 "cells": [
  {
   "cell_type": "code",
   "execution_count": 9,
   "metadata": {},
   "outputs": [],
   "source": [
    "import pandas as pd\n",
    "import numpy as np\n",
    "from osgeo import gdal, osr, ogr\n",
    "import sys\n",
    "import math\n",
    "import os\n",
    "import subprocess"
   ]
  },
  {
   "cell_type": "code",
   "execution_count": 10,
   "metadata": {},
   "outputs": [],
   "source": [
    "SPATIAL_IDX = 5\n",
    "TEMPORAL_IDX = 9"
   ]
  },
  {
   "cell_type": "code",
   "execution_count": 11,
   "metadata": {},
   "outputs": [],
   "source": [
    "'''\n",
    "Open input file <filename> and return numpy array\n",
    "'''\n",
    "\n",
    "def getInputData(filename):\n",
    "    # This allows gdal to throw python exceptions\n",
    "    gdal.UseExceptions()\n",
    "    try:\n",
    "        modisRaster = gdal.Open(filename)\n",
    "    except e:\n",
    "        print(\"Unable to open tif file\")\n",
    "        print(e)\n",
    "        print(modisRaster.GetMetadata())\n",
    "    modisData = modisRaster.ReadAsArray()\n",
    "    # set NaN values to 0\n",
    "    modisData = np.where((modisData < 1) | (modisData > 366), 0, modisData)\n",
    "    modisData = np.floor(modisData)\n",
    "    return modisData,modisRaster\n",
    "    "
   ]
  },
  {
   "cell_type": "code",
   "execution_count": 12,
   "metadata": {},
   "outputs": [],
   "source": [
    "'''\n",
    "Set the number of spatial window based on row/col and SPATIAL_IDX\n",
    "'''\n",
    "def setSpatialWindow(row,col,arrayDims,spatial_idx):\n",
    "    top = max(0,row-spatial_idx)\n",
    "    bottom = min(arrayDims[0],row+spatial_idx+1)\n",
    "    left = max(0,col-spatial_idx)\n",
    "    right = min(arrayDims[1],col+spatial_idx+1)\n",
    "    return top,bottom,left,right\n",
    "    "
   ]
  },
  {
   "cell_type": "code",
   "execution_count": 13,
   "metadata": {},
   "outputs": [],
   "source": [
    "'''\n",
    "Process the input array determining fire events based on SPATIAL_IDX and TEMPORAL_IDX\n",
    "'''\n",
    "def getEventData(inputArray,spatial_idx,temporal_idx):\n",
    "    nextId = 1\n",
    "    eventArray = np.zeros(inputArray.shape) #initialize event array to 0s\n",
    "    #Traverse pixels in the MODIS Data Array to look for neighboring event pixels that belong to the event\n",
    "    for row in range(inputArray.shape[0]):\n",
    "        for col in range(inputArray.shape[1]):\n",
    "            if inputArray[row,col] : # burn detected\n",
    "                #print(\"{},{} burn detected\".format(row,col))\n",
    "                burnDay = inputArray[row,col]\n",
    "                #print(\"Next ID={}, burnDay={}:\".format(nextId,burnDay))\n",
    "                # set spatial input and temporal bounds and create spatial windows\n",
    "                top,bottom,left,right = setSpatialWindow(row,col,inputArray.shape,spatial_idx)\n",
    "                inputWindow = inputArray[top:bottom,left:right]\n",
    "                temporalMask = np.logical_and(inputWindow>0,abs(inputWindow-burnDay)<=temporal_idx)\n",
    "                eventWindow = eventArray[top:bottom,left:right]\n",
    "                \n",
    "                currId = eventArray[row,col] # Event ID for current pixel\n",
    "                overlapMask = np.logical_and(np.logical_and(eventWindow>0,temporalMask),eventWindow!=currId)\n",
    "                if overlapMask.any():\n",
    "                    #true overlap\n",
    "                    overlapId = np.amin(eventWindow[overlapMask],axis=None)\n",
    "                    eventWindow[temporalMask] = overlapId\n",
    "                    if currId != 0:\n",
    "                        #print(\"Event merge: setting {} to {}\".format(currId,overlapId))\n",
    "                        eventArray[eventArray==currId] = overlapId\n",
    "                elif currId == 0: # no overlap and not set so get next ID\n",
    "                    eventWindow[temporalMask] = nextId\n",
    "                    nextId += 1\n",
    "                else: \n",
    "                    eventWindow[temporalMask] = currId # propagate current id\n",
    "    return eventArray"
   ]
  },
  {
   "cell_type": "code",
   "execution_count": 14,
   "metadata": {},
   "outputs": [],
   "source": [
    "'''\n",
    "Save the event data to GTiff file\n",
    "'''\n",
    "def saveEventData(eventData,input_raster,outfile):\n",
    "    print(\"Saving to {}\".format(outfile))\n",
    "    rows = input_raster.RasterYSize\n",
    "    cols = input_raster.RasterXSize\n",
    "    output_raster = gdal.GetDriverByName('GTiff').Create(outfile, cols, rows, 1 ,gdal.GDT_Float32)\n",
    "    output_raster.SetGeoTransform(input_raster.GetGeoTransform())\n",
    "    output_raster.SetProjection(input_raster.GetProjection())\n",
    "    output_raster.GetRasterBand(1).WriteArray(eventData) "
   ]
  },
  {
   "cell_type": "code",
   "execution_count": 15,
   "metadata": {},
   "outputs": [],
   "source": [
    "'''\n",
    "Calculate event statistics for each fire event\n",
    "'''\n",
    "def getEventStats(eventData):\n",
    "    eventid, pixels = np.unique(eventData, return_counts=True)\n",
    "    df=pd.DataFrame({'eventID':eventid, 'pixels':pixels})\n",
    "    df = df[df.eventID != 0] # drop '0\n",
    "    df['km2'] = (df.pixels * 463*463)/1000000\n",
    "    df['firstbd'] = df.eventID.apply(lambda x: modisData[eventData==x].min())\n",
    "    df['lastbd'] = df.eventID.apply(lambda x: modisData[eventData==x].max())\n",
    "    df['duration'] = df.lastbd - df.firstbd + 1\n",
    "    df['fsr'] = df.pixels/df.duration\n",
    "    df['maxbd'] = df.eventID.apply(lambda x: np.bincount(modisData[eventData==x].astype(int)).argmax())\n",
    "    df_e_all = []\n",
    "    events = eventid[eventid>0] #exclude pixels set to 0 (no event)\n",
    "    for e in events:\n",
    "        bd,bd_pixels = np.unique(modisData[eventData==e],return_counts=True)\n",
    "        df_e = pd.DataFrame({'eventID':e,'bd':bd,'pixels':bd_pixels})\n",
    "        df_e['areakm2'] = (df_e.pixels * 463*463)/1000000\n",
    "        df_e_all.append(df_e)\n",
    "    df_detail = pd.concat(df_e_all)\n",
    "    return df,df_detail\n"
   ]
  },
  {
   "cell_type": "code",
   "execution_count": 16,
   "metadata": {},
   "outputs": [],
   "source": [
    "def processFireEvent(infile,output_base,s,t):\n",
    "    inputData,inputRaster = getInputData(infile)\n",
    "    eventData = getEventData(inputData,s,t)\n",
    "    saveEventData(eventData,inputRaster,(output_base + '.tif'))"
   ]
  },
  {
   "cell_type": "code",
   "execution_count": 17,
   "metadata": {},
   "outputs": [],
   "source": [
    "def arraytoCSV(a,filename):\n",
    "    df = pd.DataFrame(a)\n",
    "    df.to_csv(filename)"
   ]
  },
  {
   "cell_type": "code",
   "execution_count": null,
   "metadata": {
    "collapsed": true
   },
   "outputs": [],
   "source": [
    "input_path = '../data/MCD64A1/C6/yearly_composites/'\n",
    "output_path = '../data/MCD64A1/C6/yearly_composites_15x15/'\n",
    "\n",
    "for s in range(1,16): # 1 to 15\n",
    "    for t in range(1,16): # 1 to 15\n",
    "        for year in range(2001,2018):\n",
    "            if not os.path.exists(output_path + 'USA_BurnDate_' + str(year) + 's' + str(s) + 't' + str(t) + '.tif'):\n",
    "                print(\"s={} t={} year={}\".format(s,t,year))\n",
    "                infile = input_path + 'USA_BurnDate_' + str(year) + '_ms.tif'\n",
    "                output_base =  output_path + 'USA_BurnDate_' + str(year) + 's' + str(s) + 't' + str(t) \n",
    "                processFireEvent(infile,output_base,s,t)\n",
    "                subprocess.call(['aws', 's3', 'sync', output_path, \n",
    "                                 's3://earthlab-natem/modis-burned-area/MCD64A1/C6/yearly_composites_15x15'])\n",
    "                os.remove(output_path + 'USA_BurnDate_' + str(year) + 's' + str(s) + 't' + str(t) + '.tif')\n",
    "            else: \n",
    "                print(\"deleting... s={} t={} year={}\".format(s,t,year))\n",
    "                os.remove(output_path + 'USA_BurnDate_' + str(year) + 's' + str(s) + 't' + str(t) + '.tif')"
   ]
  },
  {
   "cell_type": "code",
   "execution_count": null,
   "metadata": {
    "collapsed": true
   },
   "outputs": [],
   "source": []
  }
 ],
 "metadata": {
  "kernelspec": {
   "display_name": "Python 3",
   "language": "python",
   "name": "python3"
  },
  "language_info": {
   "codemirror_mode": {
    "name": "ipython",
    "version": 3
   },
   "file_extension": ".py",
   "mimetype": "text/x-python",
   "name": "python",
   "nbconvert_exporter": "python",
   "pygments_lexer": "ipython3",
   "version": "3.6.4"
  }
 },
 "nbformat": 4,
 "nbformat_minor": 2
}
